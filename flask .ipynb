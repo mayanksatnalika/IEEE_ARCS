{
 "cells": [
  {
   "cell_type": "code",
   "execution_count": 1,
   "metadata": {
    "collapsed": false,
    "scrolled": false
   },
   "outputs": [
    {
     "name": "stderr",
     "output_type": "stream",
     "text": [
      " * Running on http://0.0.0.0:5000/ (Press CTRL+C to quit)\n",
      " * Restarting with stat\n"
     ]
    },
    {
     "name": "stdout",
     "output_type": "stream",
     "text": [
      "imported\n"
     ]
    },
    {
     "ename": "SystemExit",
     "evalue": "1",
     "output_type": "error",
     "traceback": [
      "An exception has occurred, use %tb to see the full traceback.\n",
      "\u001b[0;31mSystemExit\u001b[0m\u001b[0;31m:\u001b[0m 1\n"
     ]
    },
    {
     "name": "stderr",
     "output_type": "stream",
     "text": [
      "/home/fsftn/anaconda2/lib/python2.7/site-packages/IPython/core/interactiveshell.py:2889: UserWarning: To exit: use 'exit', 'quit', or Ctrl-D.\n",
      "  warn(\"To exit: use 'exit', 'quit', or Ctrl-D.\", stacklevel=1)\n"
     ]
    }
   ],
   "source": [
    "myapi = '###'\n",
    "#print myapi\n",
    "import json \n",
    "from watson_developer_cloud import VisualRecognitionV3\n",
    "visual_recognition = VisualRecognitionV3('2016-05-20', api_key = myapi )\n",
    "import os\n",
    "from firebase import firebase\n",
    "firebase = firebase.FirebaseApplication('https://ieee-arcshack.firebaseio.com/', None)\n",
    "from flask import Flask\n",
    "print 'imported'\n",
    "app = Flask(__name__)\n",
    "app.debug = True\n",
    "c = {}\n",
    "\n",
    "def categorize(c):\n",
    "    print 'in categoirze'\n",
    "    mylen = min(len(c['images'][0]['classifiers'][0]['classes']), 3)\n",
    "    #print mylen\n",
    "    mystr = ''\n",
    "    keywords = ['garbage', 'bin','dust','landfill','sewage','waste','can','dirty']\n",
    "    for i in range(0,mylen):\n",
    "        #print c['images'][0]['classifiers'][0]['classes'][i]['class']\n",
    "        mystr = mystr +' ' + str(c['images'][0]['classifiers'][0]['classes'][i]['class'])\n",
    "    print mystr\n",
    "    garbage_present = 0 \n",
    "    if any(i in mystr for i in keywords):\n",
    "        garbage_present = 1\n",
    "    \n",
    "    return garbage_present \n",
    "\n",
    "\n",
    "@app.route(\"/\")\n",
    "def hello():\n",
    "    \n",
    "    already_present = []   \n",
    "    images = firebase.get('/Images', None)\n",
    "    images_present = firebase.get('/image_ans', None)\n",
    "    if images_present == None:\n",
    "        mylen = 0\n",
    "    else:\n",
    "        mylen = len(images_present)\n",
    "   \n",
    "    \n",
    "    \n",
    "    \n",
    "    \n",
    "    \n",
    "    while( mylen < len(images) ):\n",
    "        print 'mylen ',mylen\n",
    "        print 'required ',len(images)\n",
    "        images_present = firebase.get('/image_ans', None)\n",
    "        \n",
    "        if images_present == None:\n",
    "            mylen = 0\n",
    "        else:\n",
    "            mylen = len(images_present)\n",
    "            \n",
    "        if (images_present != None ) :\n",
    "            for img in images_present: \n",
    "                #print images_present[img]\n",
    "                images_present[img] = json.loads(images_present[img])\n",
    "                already_present.append(images_present[img]['img_id'])\n",
    "\n",
    "         \n",
    " \n",
    "        for img in images:\n",
    "            try:\n",
    "                if img in already_present : \n",
    "                    print 'already present'\n",
    "                    continue\n",
    "\n",
    "                print images[img]['latitude'], images[img]['longitude']\n",
    "                #print images[img]['imageUrl']\n",
    "\n",
    "                img_url =     images[img]['imageUrl']   \n",
    "\n",
    "                res = (json.dumps(visual_recognition.classify(images_url = img_url), indent=2))\n",
    "                c = json.loads(res)\n",
    "                garbage = categorize(json.loads(res))\n",
    "                latitude =       images[img]['latitude']\n",
    "                longitude  =       images[img]['longitude']\n",
    "                img_id = img\n",
    "\n",
    "                print 'ans is ', garbage\n",
    "                data = {'img_id': img_id, 'latitude': latitude, 'longitude' : longitude,  'garbage': garbage}\n",
    "                sent = json.dumps(data)\n",
    "                result = firebase.post(\"/image_ans\", sent)\n",
    "                print 'inserted'\n",
    "                \n",
    "            except Exception as e: \n",
    "                print e\n",
    "                break \n",
    "                #continue\n",
    "        \n",
    "    \n",
    "    return 'success'\n",
    "if __name__ == \"__main__\":\n",
    "    port = int(os.environ.get(\"PORT\", 5000))\n",
    "    app.run(host='0.0.0.0', port=port)"
   ]
  },
  {
   "cell_type": "code",
   "execution_count": null,
   "metadata": {
    "collapsed": false
   },
   "outputs": [
    {
     "name": "stderr",
     "output_type": "stream",
     "text": [
      " * Running on http://0.0.0.0:5000/ (Press CTRL+C to quit)\n"
     ]
    },
    {
     "name": "stdout",
     "output_type": "stream",
     "text": [
      "imported\n",
      "found\n",
      "found\n",
      "found\n",
      "found\n",
      "found\n",
      "found\n",
      "found\n",
      "found\n",
      "found\n"
     ]
    },
    {
     "name": "stderr",
     "output_type": "stream",
     "text": [
      "127.0.0.1 - - [03/Mar/2017 22:58:59] \"GET / HTTP/1.1\" 200 -\n"
     ]
    },
    {
     "name": "stdout",
     "output_type": "stream",
     "text": [
      "found\n"
     ]
    }
   ],
   "source": [
    "myapi = '###'\n",
    "#print myapi\n",
    "import json \n",
    "from watson_developer_cloud import VisualRecognitionV3\n",
    "visual_recognition = VisualRecognitionV3('2016-05-20', api_key = myapi )\n",
    "import os\n",
    "from firebase import firebase\n",
    "firebase = firebase.FirebaseApplication('https://ieee-arcshack.firebaseio.com/', None)\n",
    "from flask import Flask\n",
    "print 'imported'\n",
    "app = Flask(__name__)\n",
    "#app.debug = True\n",
    "c = {}\n",
    "\n",
    "def categorize(c):\n",
    "    print 'in categoirze'\n",
    "    mylen = min(len(c['images'][0]['classifiers'][0]['classes']), 3)\n",
    "    #print mylen\n",
    "    mystr = ''\n",
    "    keywords = ['garbage', 'bin','dust','landfill','sewage','waste','can','dirty']\n",
    "    for i in range(0,mylen):\n",
    "         \n",
    "        mystr = mystr +' ' + str(c['images'][0]['classifiers'][0]['classes'][i]['class'])\n",
    "    #print mystr\n",
    "    garbage_present = 0 \n",
    "    if any(i in mystr for i in keywords):\n",
    "        garbage_present = 1\n",
    "    \n",
    "    return garbage_present \n",
    "\n",
    "\n",
    "@app.route(\"/\")\n",
    "def hello():\n",
    "    \n",
    "    already_present = []   \n",
    "    images = firebase.get('/Images', None)\n",
    "       \n",
    "    while( True ):\n",
    "        \n",
    "        for img in images:\n",
    "            try:\n",
    "                f = 0\n",
    "                image_present = firebase.get('/image_ans', None)\n",
    "                for  imgs in image_present : \n",
    "                    #print image_present[imgs]\n",
    "                    \n",
    "                    image_present[imgs] = json.loads(image_present[imgs])\n",
    "                    \n",
    "                    \n",
    "                    #print img, image_present[imgs]['img_id']\n",
    "                    if img == image_present[imgs]['img_id'] :\n",
    "                        f = 1\n",
    "                        break\n",
    "                if f==1:\n",
    "                    print 'found'\n",
    "                    continue\n",
    "                \n",
    "                \n",
    "\n",
    "                img_url =     images[img]['imageUrl']   \n",
    "                res = (json.dumps(visual_recognition.classify(images_url = img_url), indent=2))\n",
    "                c = json.loads(res)\n",
    "                garbage = categorize(json.loads(res))\n",
    "                latitude =       images[img]['latitude']\n",
    "                longitude  =       images[img]['longitude']\n",
    "                img_id = img\n",
    "\n",
    "                #print 'ans is ', garbage\n",
    "                data = {'img_id': img_id, 'latitude': latitude, 'longitude' : longitude,  'garbage': garbage}\n",
    "                sent = json.dumps(data)\n",
    "                result = firebase.post(\"/image_ans\", sent)\n",
    "                print 'inserted'\n",
    "                \n",
    "            except Exception as e: \n",
    "                print e\n",
    "                break \n",
    "                #continue\n",
    "        \n",
    "        break\n",
    "    \n",
    "    return 'success'\n",
    "if __name__ == \"__main__\":\n",
    "    port = int(os.environ.get(\"PORT\", 5000))\n",
    "    app.run(host='0.0.0.0', port=port)"
   ]
  },
  {
   "cell_type": "code",
   "execution_count": 15,
   "metadata": {
    "collapsed": false
   },
   "outputs": [
    {
     "name": "stdout",
     "output_type": "stream",
     "text": [
      "0.909184153585\n"
     ]
    }
   ],
   "source": [
    "import random\n",
    "no = str(random.random())\n",
    "print no"
   ]
  }
 ],
 "metadata": {
  "anaconda-cloud": {},
  "kernelspec": {
   "display_name": "Python 2",
   "language": "python",
   "name": "python2"
  },
  "language_info": {
   "codemirror_mode": {
    "name": "ipython",
    "version": 2
   },
   "file_extension": ".py",
   "mimetype": "text/x-python",
   "name": "python",
   "nbconvert_exporter": "python",
   "pygments_lexer": "ipython2",
   "version": "2.7.12"
  }
 },
 "nbformat": 4,
 "nbformat_minor": 1
}
